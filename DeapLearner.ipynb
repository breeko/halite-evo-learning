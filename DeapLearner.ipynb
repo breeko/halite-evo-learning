{
 "cells": [
  {
   "cell_type": "markdown",
   "metadata": {},
   "source": [
    "# Halite using Distributed Evolutionary Algorithms\n",
    "\n",
    "[More detailed (non-Halite specific) tutorial](https://github.com/DEAP/notebooks/blob/master/OneMax.ipynb)\n",
    "\n",
    "Below is a starter package you can use to help train your [halite](www.halite.io) bot using  [DEAP](https://github.com/DEAP/deap)\n",
    "\n",
    "Many halite bots rely of hard-coded values or heuristics that may not be optimized. And many of these values interact with each other so training them individually may be hard. Evolutionary algorithms may help"
   ]
  },
  {
   "cell_type": "code",
   "execution_count": 1,
   "metadata": {
    "collapsed": true
   },
   "outputs": [],
   "source": [
    "import random\n",
    "from deap import base, creator, tools, algorithms"
   ]
  },
  {
   "cell_type": "markdown",
   "metadata": {},
   "source": [
    "### Type Creation\n",
    "Create individual types and fitness functions"
   ]
  },
  {
   "cell_type": "code",
   "execution_count": 2,
   "metadata": {
    "collapsed": false
   },
   "outputs": [],
   "source": [
    "creator.create(\"FitnessMax\", base.Fitness, weights=(1.0,))\n",
    "creator.create(\"Individual\", list, fitness=creator.FitnessMax)"
   ]
  },
  {
   "cell_type": "markdown",
   "metadata": {},
   "source": [
    "### Create bots\n",
    "Our individual bot will take a list of parameters which we can later use to initalize our bots"
   ]
  },
  {
   "cell_type": "code",
   "execution_count": 3,
   "metadata": {
    "collapsed": false
   },
   "outputs": [
    {
     "name": "stdout",
     "output_type": "stream",
     "text": [
      "[1.0]\n",
      "<class 'deap.creator.Individual'>\n",
      "<class 'deap.creator.FitnessMax'>\n"
     ]
    }
   ],
   "source": [
    "ind = creator.Individual([1.])\n",
    "\n",
    "print(ind)\n",
    "print(type(ind))\n",
    "print(type(ind.fitness))"
   ]
  },
  {
   "cell_type": "markdown",
   "metadata": {},
   "source": [
    "Now we'll register the attributes that will be used in our bot, individual bots and population. In this bot, we'll have 2 parameters: prod_attr and default_dir_attr. prod_attr will be a float from 1 to 10 and default_dir_attr will be an int from 0 to 3. When we initialize our bot to test, it will take these 2 parameters and run a game with given values. These two parameters are what we're solving for."
   ]
  },
  {
   "cell_type": "code",
   "execution_count": 27,
   "metadata": {
    "collapsed": false
   },
   "outputs": [],
   "source": [
    "min_prod_attr_val = 1\n",
    "max_prod_attr_val = 10\n",
    "min_default_dir = 0\n",
    "max_default_dir = 4\n",
    "\n",
    "toolbox = base.Toolbox()\n",
    "toolbox.register(\"prod_attr\", random.uniform, min_prod_attr_val, max_prod_attr_val)\n",
    "toolbox.register(\"default_dir_attr\", random.randint, min_default_dir, max_default_dir)\n",
    "toolbox.register(\"individual\", tools.initCycle, creator.Individual, \n",
    "                 (toolbox.prod_attr, toolbox.default_dir_attr), n=1)\n",
    "toolbox.register(\"population\", tools.initRepeat, list, toolbox.individual)"
   ]
  },
  {
   "cell_type": "markdown",
   "metadata": {},
   "source": [
    "An attribute consists of its value. \n",
    "An individual consists of a list of attributes. \n",
    "A population consists of a list of individuals."
   ]
  },
  {
   "cell_type": "code",
   "execution_count": 28,
   "metadata": {
    "collapsed": false
   },
   "outputs": [
    {
     "name": "stdout",
     "output_type": "stream",
     "text": [
      "bit is of type <class 'float'> and has value\n",
      "3.411705090209399\n",
      "ind is of type <class 'deap.creator.Individual'> and contains 2 bits\n",
      "[8.058465779581912, 1]\n",
      "pop is of type <class 'list'> and contains 3 individuals\n",
      "[[1.9086151005759628, 0], [8.699548868466799, 1], [6.214087347039889, 2]]\n"
     ]
    }
   ],
   "source": [
    "bit = toolbox.prod_attr()\n",
    "ind = toolbox.individual()\n",
    "pop = toolbox.population(n=3)\n",
    "\n",
    "print(\"bit is of type %s and has value\\n%s\" % (type(bit), bit))\n",
    "print(\"ind is of type %s and contains %d bits\\n%s\" % (type(ind), len(ind), ind))\n",
    "print(\"pop is of type %s and contains %d individuals\\n%s\" % (type(pop), len(pop), pop))\n"
   ]
  },
  {
   "cell_type": "markdown",
   "metadata": {},
   "source": [
    "### Evaluation Function\n",
    "Define the criteria by which to evaluate an individual. This can be anything, but to keep it simple, lets just use how fast our individual can solve a map given in a one player game. This can be expanded to incorporate how the bot fares against other bots, an averaging of several maps or more complex evaluation methods based on accumulated strength/production/territory. Fitness is negative since we want to maximize fitness which means minimizing number of moves. But, of course, this can be changed.\n",
    "\n",
    "For the bot, I use optparse to send parameters to the bot. You may need to edit eval function below to work with a specific bot. And this should be expanded to be a more robust measure of fitness, but it is important to have a controlled environment to test the bot for puroposes of comparison (e.g. each individual has the same map and positioning)"
   ]
  },
  {
   "cell_type": "code",
   "execution_count": 37,
   "metadata": {
    "collapsed": false
   },
   "outputs": [],
   "source": [
    "import subprocess\n",
    "\n",
    "def evalIndividual(individual, seed=\"123456789\", map_size=\"30 30\"):\n",
    "    halite_file = \"./halite\"\n",
    "    opt_1 = \"-d\"\n",
    "    opt_1_val = map_size\n",
    "    opt_2 = \"-s\"\n",
    "    opt_2_val = seed\n",
    "    \n",
    "    ### EDIT THIS ###\n",
    "    bot = \"EvoBot.py\"\n",
    "    bot_opts = [\"-p\", \"-d\"]\n",
    "    bot_vals = individual\n",
    "    bot_command = \"python3 {}\".format(bot)\n",
    "    #################\n",
    "    \n",
    "    for opt, val in zip(bot_opts, bot_vals):\n",
    "        bot_command += \" {} {}\".format(opt, val)\n",
    "\n",
    "    out = subprocess.run([halite_file, opt_1, opt_1_val, opt_2, opt_2_val, bot_command],\n",
    "                         stdout=subprocess.PIPE)\n",
    "    out = out.stdout.splitlines()\n",
    "    out = [line.decode(\"utf-8\") for line in out]\n",
    "\n",
    "    return [-max([int(line.split()[-1]) for line in out if \"Turn\" in line])]"
   ]
  },
  {
   "cell_type": "markdown",
   "metadata": {},
   "source": [
    "Register evaluation function. For mating, we'll cross the individuals. This doesn't make sense for an individual with attributes of length 1, but this can be expanded to more attributes. The mutate is set to a gaussian with a 0 mean and individual probability of mutation of 10%"
   ]
  },
  {
   "cell_type": "code",
   "execution_count": 38,
   "metadata": {
    "collapsed": false
   },
   "outputs": [],
   "source": [
    "toolbox.register(\"evaluate\", evalIndividual)\n",
    "toolbox.register(\"mate\", tools.cxTwoPoint)\n",
    "toolbox.register(\"mutate\", tools.mutGaussian, mu=0, sigma=1., indpb=0.10)\n",
    "toolbox.register(\"select\", tools.selTournament, tournsize=1)"
   ]
  },
  {
   "cell_type": "markdown",
   "metadata": {},
   "source": [
    "Test mutation below. Note that running mutate has only a 10% probability of mutating each attribute"
   ]
  },
  {
   "cell_type": "code",
   "execution_count": 40,
   "metadata": {
    "collapsed": false
   },
   "outputs": [
    {
     "name": "stdout",
     "output_type": "stream",
     "text": [
      "[8.422174901637693, 0]\n",
      "[10.794272078776203, 0]\n"
     ]
    }
   ],
   "source": [
    "ind = toolbox.individual()\n",
    "print(ind)\n",
    "toolbox.mutate(ind)\n",
    "print(ind)"
   ]
  },
  {
   "cell_type": "markdown",
   "metadata": {},
   "source": [
    "## Evolving"
   ]
  },
  {
   "cell_type": "code",
   "execution_count": 41,
   "metadata": {
    "collapsed": false
   },
   "outputs": [],
   "source": [
    "import numpy\n",
    "def main():\n",
    "    pop = toolbox.population(n=5)\n",
    "    hof = tools.HallOfFame(1)\n",
    "    stats = tools.Statistics(lambda ind: ind.fitness.values)\n",
    "    stats.register(\"avg\", numpy.mean)\n",
    "    stats.register(\"min\", numpy.min)\n",
    "    stats.register(\"max\", numpy.max)\n",
    "    \n",
    "    pop, logbook = algorithms.eaSimple(pop, toolbox, cxpb=0.5, mutpb=0.2, \n",
    "                                       ngen=10, stats=stats, halloffame=hof, verbose=True)\n",
    "    \n",
    "    return pop, logbook, hof"
   ]
  },
  {
   "cell_type": "markdown",
   "metadata": {},
   "source": [
    "Although we got some improvement in the first generation, later generations have not improved. This is a simple example and the parameters used have a relatively small impact on the overall performance of the bot. Also, the evaluation function is very simple."
   ]
  },
  {
   "cell_type": "code",
   "execution_count": 42,
   "metadata": {
    "collapsed": false
   },
   "outputs": [
    {
     "name": "stdout",
     "output_type": "stream",
     "text": [
      "gen\tnevals\tavg \tmin \tmax \n",
      "0  \t5     \t-251\t-300\t-175\n",
      "1  \t5     \t-202.8\t-300\t-174\n",
      "2  \t4     \t-200.6\t-300\t-174\n",
      "3  \t2     \t-202.8\t-300\t-174\n",
      "4  \t0     \t-228  \t-300\t-180\n",
      "5  \t4     \t-276  \t-300\t-180\n",
      "6  \t4     \t-276  \t-300\t-180\n",
      "7  \t1     \t-276  \t-300\t-180\n",
      "8  \t1     \t-276  \t-300\t-180\n",
      "9  \t2     \t-276  \t-300\t-180\n",
      "10 \t4     \t-276  \t-300\t-180\n",
      "Best individual is: [4.848321376101778, 3]\n",
      "with fitness: (-174.0,)\n"
     ]
    },
    {
     "data": {
      "image/png": "[encoded data removed]",
      "text/plain": [
       "<matplotlib.figure.Figure at 0x10bd54da0>"
      ]
     },
     "metadata": {},
     "output_type": "display_data"
    }
   ],
   "source": [
    "import matplotlib.pyplot as plt\n",
    "\n",
    "if __name__ == \"__main__\":\n",
    "    pop, log, hof = main()\n",
    "    print(\"Best individual is: %s\\nwith fitness: %s\" % (hof[0], hof[0].fitness))\n",
    "    \n",
    "    gen, avg, min_, max_ = log.select(\"gen\", \"avg\", \"min\", \"max\")\n",
    "    plt.plot(gen, avg, label=\"average\")\n",
    "    plt.plot(gen, min_, label=\"minimum\")\n",
    "    plt.plot(gen, max_, label=\"maximum\")\n",
    "    plt.xlabel(\"Generation\")\n",
    "    plt.ylabel(\"Fitness\")\n",
    "    plt.legend(loc=\"lower right\")\n",
    "\n",
    "plt.show()"
   ]
  },
  {
   "cell_type": "code",
   "execution_count": null,
   "metadata": {
    "collapsed": true
   },
   "outputs": [],
   "source": []
  }
 ],
 "metadata": {
  "kernelspec": {
   "display_name": "Python 3",
   "language": "python",
   "name": "python3"
  },
  "language_info": {
   "codemirror_mode": {
    "name": "ipython",
    "version": 3
   },
   "file_extension": ".py",
   "mimetype": "text/x-python",
   "name": "python",
   "nbconvert_exporter": "python",
   "pygments_lexer": "ipython3",
   "version": "3.5.2"
  }
 },
 "nbformat": 4,
 "nbformat_minor": 1
}
